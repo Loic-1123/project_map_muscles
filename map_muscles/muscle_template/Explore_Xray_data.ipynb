{
 "cells": [
  {
   "cell_type": "code",
   "execution_count": 2,
   "metadata": {},
   "outputs": [],
   "source": [
    "import pandas as pd"
   ]
  },
  {
   "cell_type": "code",
   "execution_count": 1,
   "metadata": {},
   "outputs": [],
   "source": [
    "from caveclient import CAVEclient\n",
    "client = CAVEclient()\n",
    "auth = client.auth"
   ]
  },
  {
   "cell_type": "code",
   "execution_count": 3,
   "metadata": {},
   "outputs": [],
   "source": [
    "# If first run uncomment to get instruction to get a token\n",
    "#auth.get_new_token()\n",
    "client.auth.token = \"a68574bbbfddae1938daba7106d5035f\""
   ]
  },
  {
   "cell_type": "code",
   "execution_count": 4,
   "metadata": {},
   "outputs": [],
   "source": [
    "# The state from https://github.com/NeLy-EPFL/neuromechfly-muscles-dev/issues/6#issuecomment-1881224757\n",
    "muscles_state = client.state.get_state_json(5920404218576896)\n",
    "anno_layers = [layer for layer in muscles_state['layers'] if layer['type'] == 'annotation']"
   ]
  },
  {
   "cell_type": "code",
   "execution_count": 5,
   "metadata": {},
   "outputs": [],
   "source": [
    "fiber_lines = []\n",
    "for layer in anno_layers:\n",
    "    for anno in layer['annotations']:\n",
    "        if anno['type'] != 'line':\n",
    "            continue\n",
    "        fiber_lines.append({\n",
    "            #'id': anno['id'],\n",
    "            'pointA': [int(i) for i in anno['pointA']],\n",
    "            'pointB': [int(i) for i in anno['pointB']],\n",
    "            'layer_name': layer['name'],\n",
    "        })"
   ]
  },
  {
   "cell_type": "code",
   "execution_count": 6,
   "metadata": {},
   "outputs": [],
   "source": [
    "fiber_lines = pd.DataFrame(fiber_lines)\n",
    "# If layer name starts with LF, RF, LM, RM, LH, or RH, then it's a leg muscle\n",
    "fiber_lines['is_leg_muscle'] = fiber_lines['layer_name'].str.startswith(('LF', 'RF', 'LM', 'RM', 'LH', 'RH'))\n",
    "fiber_lines.loc[~fiber_lines.is_leg_muscle, 'leg'] = None\n",
    "leg_fibers = fiber_lines[fiber_lines.is_leg_muscle].copy()\n",
    "leg_fibers['leg'] = leg_fibers['layer_name'].str[0:2]\n",
    "leg_fibers['origin-insertion'] = leg_fibers['layer_name'].str.split(' ').str[1]\n",
    "leg_fibers['origin'] = leg_fibers['origin-insertion'].str[:2]\n",
    "leg_fibers['insertion'] = leg_fibers['origin-insertion'].str[2:]"
   ]
  },
  {
   "cell_type": "code",
   "execution_count": 7,
   "metadata": {},
   "outputs": [
    {
     "data": {
      "text/html": [
       "<div>\n",
       "<style scoped>\n",
       "    .dataframe tbody tr th:only-of-type {\n",
       "        vertical-align: middle;\n",
       "    }\n",
       "\n",
       "    .dataframe tbody tr th {\n",
       "        vertical-align: top;\n",
       "    }\n",
       "\n",
       "    .dataframe thead th {\n",
       "        text-align: right;\n",
       "    }\n",
       "</style>\n",
       "<table border=\"1\" class=\"dataframe\">\n",
       "  <thead>\n",
       "    <tr style=\"text-align: right;\">\n",
       "      <th></th>\n",
       "      <th>pointA</th>\n",
       "      <th>pointB</th>\n",
       "      <th>layer_name</th>\n",
       "      <th>is_leg_muscle</th>\n",
       "      <th>leg</th>\n",
       "    </tr>\n",
       "  </thead>\n",
       "  <tbody>\n",
       "    <tr>\n",
       "      <th>0</th>\n",
       "      <td>[994, 797, 503]</td>\n",
       "      <td>[1732, 1262, 1081]</td>\n",
       "      <td>crazy proboscis muscle</td>\n",
       "      <td>False</td>\n",
       "      <td>None</td>\n",
       "    </tr>\n",
       "    <tr>\n",
       "      <th>1</th>\n",
       "      <td>[999, 799, 528]</td>\n",
       "      <td>[1727, 1268, 1084]</td>\n",
       "      <td>crazy proboscis muscle</td>\n",
       "      <td>False</td>\n",
       "      <td>None</td>\n",
       "    </tr>\n",
       "    <tr>\n",
       "      <th>2</th>\n",
       "      <td>[684, 1054, 725]</td>\n",
       "      <td>[671, 984, 2183]</td>\n",
       "      <td>L wing DLM</td>\n",
       "      <td>False</td>\n",
       "      <td>None</td>\n",
       "    </tr>\n",
       "    <tr>\n",
       "      <th>3</th>\n",
       "      <td>[322, 1010, 1099]</td>\n",
       "      <td>[397, 1002, 1930]</td>\n",
       "      <td>L wing DLM</td>\n",
       "      <td>False</td>\n",
       "      <td>None</td>\n",
       "    </tr>\n",
       "    <tr>\n",
       "      <th>4</th>\n",
       "      <td>[416, 1011, 950]</td>\n",
       "      <td>[476, 993, 2005]</td>\n",
       "      <td>L wing DLM</td>\n",
       "      <td>False</td>\n",
       "      <td>None</td>\n",
       "    </tr>\n",
       "  </tbody>\n",
       "</table>\n",
       "</div>"
      ],
      "text/plain": [
       "              pointA              pointB              layer_name  \\\n",
       "0    [994, 797, 503]  [1732, 1262, 1081]  crazy proboscis muscle   \n",
       "1    [999, 799, 528]  [1727, 1268, 1084]  crazy proboscis muscle   \n",
       "2   [684, 1054, 725]    [671, 984, 2183]              L wing DLM   \n",
       "3  [322, 1010, 1099]   [397, 1002, 1930]              L wing DLM   \n",
       "4   [416, 1011, 950]    [476, 993, 2005]              L wing DLM   \n",
       "\n",
       "   is_leg_muscle   leg  \n",
       "0          False  None  \n",
       "1          False  None  \n",
       "2          False  None  \n",
       "3          False  None  \n",
       "4          False  None  "
      ]
     },
     "execution_count": 7,
     "metadata": {},
     "output_type": "execute_result"
    }
   ],
   "source": [
    "fiber_lines.head()"
   ]
  },
  {
   "cell_type": "code",
   "execution_count": null,
   "metadata": {},
   "outputs": [],
   "source": []
  },
  {
   "cell_type": "code",
   "execution_count": null,
   "metadata": {},
   "outputs": [],
   "source": []
  }
 ],
 "metadata": {
  "kernelspec": {
   "display_name": "map_muscles",
   "language": "python",
   "name": "python3"
  },
  "language_info": {
   "codemirror_mode": {
    "name": "ipython",
    "version": 3
   },
   "file_extension": ".py",
   "mimetype": "text/x-python",
   "name": "python",
   "nbconvert_exporter": "python",
   "pygments_lexer": "ipython3",
   "version": "3.12.2"
  }
 },
 "nbformat": 4,
 "nbformat_minor": 2
}
